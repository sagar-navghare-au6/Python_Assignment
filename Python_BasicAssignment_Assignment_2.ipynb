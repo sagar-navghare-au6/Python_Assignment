{
 "cells": [
  {
   "cell_type": "markdown",
   "metadata": {},
   "source": [
    "1. What are the Boolean data type's two values? How do you go about writing them? \n",
    "\n",
    "The Boolean data type’s values are True and False.  a= True   b=False "
   ]
  },
  {
   "cell_type": "markdown",
   "metadata": {},
   "source": [
    "2. What are the three different types of Boolean operators? \n",
    "\n",
    " The three different type of Boolean  operators are  AND,OR and NOT. "
   ]
  },
  {
   "cell_type": "markdown",
   "metadata": {},
   "source": [
    "3. Make a list of each Boolean operator's truth tables (i.e. every possible combination of Boolean values for the operator and what it evaluate ). \n",
    "\n",
    "AND Truth table \n",
    "\n",
    "Input                Output\n",
    "True       True      True\n",
    "True       False     False\n",
    "False      True      False\n",
    "False      False     False\n",
    "\n",
    "OR Truth table \n",
    "\n",
    "Input                Output\n",
    "True       True      True\n",
    "True       False     True\n",
    "False      True      True\n",
    "False      False     False\n",
    "\n",
    "NOT Truth Table\n",
    "OR Truth table \n",
    "\n",
    "Input      Output\n",
    "True       True     \n",
    "True       False    \n"
   ]
  },
  {
   "cell_type": "markdown",
   "metadata": {},
   "source": [
    "4. What are the values of the following expressions? \n",
    "\n",
    "(5 > 4) and (3 == 5) \n",
    "\n",
    "Ans:- False \n",
    "\n",
    "not (5 > 4) \n",
    "\n",
    "Ans:False \n",
    "\n",
    "(5 > 4) or (3 == 5) \n",
    "\n",
    "Ans: True \n",
    "\n",
    " \n",
    "\n",
    "not ((5 > 4) or (3 == 5)) \n",
    "\n",
    "Ans:- False \n",
    "\n",
    "(True and True) and (True == False) \n",
    "\n",
    "Ans: False \n",
    "\n",
    "(not False) or (not True) \n",
    "\n",
    "Ans: True "
   ]
  },
  {
   "cell_type": "markdown",
   "metadata": {},
   "source": [
    " \n",
    "\n",
    "5. What are the six different types of reference operators? \n",
    "\n",
    "1.Assignment Operator \n",
    "\n",
    "2.Arithmetic Operator \n",
    "\n",
    "3.Logical Operator \n",
    "\n",
    "4.Comparison Operator \n",
    "\n",
    "5.Bitwise Operator \n",
    "\n",
    "6.Precedence Operator "
   ]
  },
  {
   "cell_type": "code",
   "execution_count": null,
   "metadata": {},
   "outputs": [],
   "source": [
    " \n",
    "\n",
    "6. How do you tell the difference between the equal to and assignment operators? \n",
    "\n",
    "Ans: in assignment we use the single “=” or equal to sign is use in between variable and value. \n",
    "\n",
    "In equal to we use the double equal to sign or “==” is use in between variable or value. "
   ]
  },
  {
   "cell_type": "code",
   "execution_count": null,
   "metadata": {},
   "outputs": [],
   "source": [
    "7. Describe a condition and when you would use one. \n",
    "\n",
    "Ans: Condition list \n",
    "\n",
    "If ----else condition \n",
    "\n",
    "If --- elif ----else condition \n",
    "\n",
    "Condition is use when the number action depending on a Boolean evaluation like True or false "
   ]
  },
  {
   "cell_type": "code",
   "execution_count": null,
   "metadata": {},
   "outputs": [],
   "source": [
    "8. Recognize the following three blocks in this code: \n",
    "\n",
    " \n",
    "\n",
    "spam = 0 \n",
    "\n",
    "if spam == 10: \n",
    "\n",
    "    print('eggs') \n",
    "\n",
    "    if spam > 5: \n",
    "\n",
    "        print('bacon') \n",
    "\n",
    "    else: \n",
    "\n",
    "        print('ham') \n",
    "\n",
    "    print('spam') \n",
    "\n",
    "print('spam') \n",
    "\n",
    " \n",
    "\n",
    "Ans :  1st Block \n",
    "\n",
    " \n",
    "\n",
    "spam = 0 \n",
    "\n",
    "if spam == 10: \n",
    "\n",
    "    print('eggs') \n",
    "\n",
    "    if spam > 5: \n",
    "\n",
    "        print('bacon') \n",
    "\n",
    "    else: \n",
    "\n",
    "        print('ham') \n",
    "\n",
    "    print('spam') \n",
    "\n",
    "print('spam') \n",
    "\n",
    " \n",
    "\n",
    "2nd Block \n",
    "\n",
    "if spam == 10: \n",
    "\n",
    "    print('eggs') \n",
    "\n",
    "    if spam > 5: \n",
    "\n",
    "        print('bacon') \n",
    "\n",
    "    else: \n",
    "\n",
    "        print('ham') \n",
    "\n",
    "    print('spam') \n",
    "\n",
    " 3rd Block \n",
    "\n",
    "   if spam > 5: \n",
    "\n",
    "        print('bacon') \n",
    "\n",
    "    else: \n",
    "\n",
    "        print('ham') \n",
    "\n",
    " "
   ]
  },
  {
   "cell_type": "code",
   "execution_count": null,
   "metadata": {},
   "outputs": [],
   "source": [
    " \n",
    "\n",
    "9. Create a programme that prints. If 1 is stored in spam, prints Hello; if 2 is stored in spam, prints Howdy; and if 3 is stored in spam, prints Salutations! if there's something else in spam. \n",
    "\n",
    "Ans : spam = int(input(\"Enter the number\")) \n",
    "\n",
    "if spam == 1: \n",
    "\n",
    "    print(\"Hello\") \n",
    "\n",
    "elif spam == 2: \n",
    "\n",
    "    print(\"Howdy\") \n",
    "\n",
    "elif spam ==3: \n",
    "\n",
    "    print(\"Salutations!\") \n",
    "\n",
    "else: \n",
    "\n",
    "    print(\"spam\") "
   ]
  },
  {
   "cell_type": "code",
   "execution_count": null,
   "metadata": {},
   "outputs": [],
   "source": [
    "10.If your programme is stuck in an endless loop, what keys can you press? \n",
    "\n",
    "Ans: press CTRL + C "
   ]
  },
  {
   "cell_type": "code",
   "execution_count": null,
   "metadata": {},
   "outputs": [],
   "source": [
    "11. How can you tell the difference between break and continue? \n",
    "\n",
    "Ans : When we use  break statemen inside the loop will stop the loop and exit. \n",
    "\n",
    "Continue statement will stop the current execution when used inside a loop and the control will go back to the start of the loop "
   ]
  },
  {
   "cell_type": "code",
   "execution_count": null,
   "metadata": {},
   "outputs": [],
   "source": [
    " \n",
    "\n",
    "12. In a for loop, what is the difference between range(10), range(0, 10), and range(0, 10, 1)? \n",
    "\n",
    "Ans  In range(10) we describe in the bracket this is stop range exclusive this number. \n",
    "\n",
    "In range(0,10) we describe the two values the first value is start point inclusive and the 2nd is stop range exclusive this number. \n",
    "\n",
    "In range(0,10,1) we describe the three values the first value is start point inclusive and the 2nd is stop range exclusive this number.3rd  is step it specifies the increment or decrement \n",
    "\n",
    " "
   ]
  },
  {
   "cell_type": "code",
   "execution_count": null,
   "metadata": {},
   "outputs": [],
   "source": [
    "13. Using a for loop, write a short programme that prints the numbers 1 to 10 Then, using a while loop, create an identical programme that prints the numbers 1 to 10. \n",
    "\n",
    "Ans :for i in range(1,11): \n",
    "\n",
    "              print(i) \n",
    "\n",
    " \n",
    "\n",
    "num = 1 \n",
    "\n",
    "while num <= 10: \n",
    "\n",
    "    print(num) \n",
    "\n",
    "    num = num + 1 "
   ]
  },
  {
   "cell_type": "code",
   "execution_count": null,
   "metadata": {},
   "outputs": [],
   "source": [
    " \n",
    "\n",
    "14. If you had a bacon() function within a spam module, how  would you call it after importing spam? \n",
    "\n",
    "Ans : spam.bacon "
   ]
  },
  {
   "cell_type": "code",
   "execution_count": null,
   "metadata": {},
   "outputs": [],
   "source": []
  },
  {
   "cell_type": "code",
   "execution_count": null,
   "metadata": {},
   "outputs": [],
   "source": []
  },
  {
   "cell_type": "code",
   "execution_count": null,
   "metadata": {},
   "outputs": [],
   "source": []
  }
 ],
 "metadata": {
  "kernelspec": {
   "display_name": "Python 3",
   "language": "python",
   "name": "python3"
  },
  "language_info": {
   "codemirror_mode": {
    "name": "ipython",
    "version": 3
   },
   "file_extension": ".py",
   "mimetype": "text/x-python",
   "name": "python",
   "nbconvert_exporter": "python",
   "pygments_lexer": "ipython3",
   "version": "3.8.5"
  }
 },
 "nbformat": 4,
 "nbformat_minor": 4
}
