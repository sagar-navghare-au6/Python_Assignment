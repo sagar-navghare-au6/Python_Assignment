{
 "cells": [
  {
   "cell_type": "markdown",
   "metadata": {},
   "source": [
    "### 1. Write a Python program to convert kilometers to miles?"
   ]
  },
  {
   "cell_type": "code",
   "execution_count": 10,
   "metadata": {},
   "outputs": [
    {
     "name": "stdout",
     "output_type": "stream",
     "text": [
      "Enter the kilometer 22.33\n",
      "22.33km =13.88m\n"
     ]
    }
   ],
   "source": [
    "kilometer = float(input(\"Enter the kilometer \"))\n",
    "miles = kilometer * 0.62137\n",
    "ans=round(miles,2)\n",
    "print(f\"{kilometer}km ={ans}m\")"
   ]
  },
  {
   "cell_type": "markdown",
   "metadata": {},
   "source": [
    "### 2. Write a Python program to convert Celsius to Fahrenheit?"
   ]
  },
  {
   "cell_type": "code",
   "execution_count": 12,
   "metadata": {},
   "outputs": [
    {
     "name": "stdout",
     "output_type": "stream",
     "text": [
      "Enter the celsius22\n",
      "22.0 c = 71.6 F\n"
     ]
    }
   ],
   "source": [
    "celsius = float(input(\"Enter the celsius\"))\n",
    "fahrenheit = (celsius* 9/5) + 32\n",
    "print(f\"{celsius} c = {fahrenheit} F\")"
   ]
  },
  {
   "cell_type": "markdown",
   "metadata": {},
   "source": [
    "### 3. Write a Python program to display calendar?"
   ]
  },
  {
   "cell_type": "code",
   "execution_count": 14,
   "metadata": {},
   "outputs": [
    {
     "name": "stdout",
     "output_type": "stream",
     "text": [
      "Enter the year: 2021\n",
      "Enter the month: 4\n",
      "     April 2021\n",
      "Mo Tu We Th Fr Sa Su\n",
      "          1  2  3  4\n",
      " 5  6  7  8  9 10 11\n",
      "12 13 14 15 16 17 18\n",
      "19 20 21 22 23 24 25\n",
      "26 27 28 29 30\n",
      "\n"
     ]
    }
   ],
   "source": [
    "import calendar   \n",
    "year = int(input(\"Enter the year: \"))  \n",
    "month = int(input(\"Enter the month: \"))  \n",
    "print(calendar.month(year,month))  "
   ]
  },
  {
   "cell_type": "markdown",
   "metadata": {},
   "source": [
    "### 4. Write a Python program to solve quadratic equation?"
   ]
  },
  {
   "cell_type": "code",
   "execution_count": 18,
   "metadata": {},
   "outputs": [
    {
     "name": "stdout",
     "output_type": "stream",
     "text": [
      "Enter the a: 8\n",
      "Enter the b: 16\n",
      "Enter the c: 8\n",
      "The solution are (-1+0j) and (-1+0j)\n"
     ]
    }
   ],
   "source": [
    "import cmath  \n",
    "num1 = float(input('Enter the a: '))  \n",
    "num2 = float(input('Enter the b: '))  \n",
    "num3 = float(input('Enter the c: '))   \n",
    "ans= (num2**2) - (4*num1*num3)  \n",
    "  \n",
    "answer1 = (-num2-cmath.sqrt(ans))/(2*num1)  \n",
    "answer2 = (-num2+cmath.sqrt(ans))/(2*num1)  \n",
    "print('The solution are {0} and {1}'.format(answer1,answer2))   "
   ]
  },
  {
   "cell_type": "markdown",
   "metadata": {},
   "source": [
    "### 5. Write a Python program to swap two variables without temp variable?"
   ]
  },
  {
   "cell_type": "code",
   "execution_count": 19,
   "metadata": {},
   "outputs": [
    {
     "name": "stdout",
     "output_type": "stream",
     "text": [
      "After swapping: \n",
      "Value of number 1 :  7  and number 2 :  5\n"
     ]
    }
   ],
   "source": [
    "num1 = 5\n",
    "num2 = 7\n",
    "num1, num2 = num2, num1\n",
    " \n",
    "print (\"After swapping: \")\n",
    "print(\"Value of number 1 : \", num1, \" and number 2 : \", num2)"
   ]
  },
  {
   "cell_type": "code",
   "execution_count": null,
   "metadata": {},
   "outputs": [],
   "source": []
  }
 ],
 "metadata": {
  "kernelspec": {
   "display_name": "Python 3",
   "language": "python",
   "name": "python3"
  },
  "language_info": {
   "codemirror_mode": {
    "name": "ipython",
    "version": 3
   },
   "file_extension": ".py",
   "mimetype": "text/x-python",
   "name": "python",
   "nbconvert_exporter": "python",
   "pygments_lexer": "ipython3",
   "version": "3.8.5"
  }
 },
 "nbformat": 4,
 "nbformat_minor": 4
}
