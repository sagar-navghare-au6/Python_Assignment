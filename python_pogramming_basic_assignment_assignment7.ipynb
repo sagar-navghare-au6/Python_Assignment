{
 "cells": [
  {
   "cell_type": "markdown",
   "metadata": {},
   "source": [
    "#### Write a Python Program to find sum of array?"
   ]
  },
  {
   "cell_type": "code",
   "execution_count": 3,
   "metadata": {},
   "outputs": [
    {
     "name": "stdout",
     "output_type": "stream",
     "text": [
      "Sum of array is  34\n"
     ]
    }
   ],
   "source": [
    "array = [12, 3, 4, 15]\n",
    "print(\"Sum of array is \",sum(array))"
   ]
  },
  {
   "cell_type": "markdown",
   "metadata": {},
   "source": [
    "#### Write a Python Program to find largest element in an array?"
   ]
  },
  {
   "cell_type": "code",
   "execution_count": 5,
   "metadata": {},
   "outputs": [
    {
     "name": "stdout",
     "output_type": "stream",
     "text": [
      "Largest element is:  75\n"
     ]
    }
   ],
   "source": [
    "array = [25, 11, 7, 75, 56];         \n",
    "max = array[0];      \n",
    "for i in range(0, len(array)):       \n",
    "    if(array[i] > max):    \n",
    "        max = array[i];    \n",
    "           \n",
    "print(\"Largest element is: \" ,max);   "
   ]
  },
  {
   "cell_type": "markdown",
   "metadata": {},
   "source": [
    "#### Write a Python Program for array rotation?"
   ]
  },
  {
   "cell_type": "code",
   "execution_count": 6,
   "metadata": {},
   "outputs": [
    {
     "name": "stdout",
     "output_type": "stream",
     "text": [
      "\n",
      "Array after left rotation: \n",
      "4\n",
      "5\n",
      "1\n",
      "2\n",
      "3\n"
     ]
    }
   ],
   "source": [
    "array = [1, 2, 3, 4, 5];        \n",
    "n = 2;    \n",
    "for i in range(0, n):      \n",
    "    first = array[0];    \n",
    "        \n",
    "    for j in range(0, len(array)-1):     \n",
    "        array[j] = array[j+1];       \n",
    "    array[len(array)-1] = first;    \n",
    "     \n",
    "print();      \n",
    "print(\"Array after left rotation: \");    \n",
    "for i in range(0, len(array)):    \n",
    "    print(array[i]),    "
   ]
  },
  {
   "cell_type": "markdown",
   "metadata": {},
   "source": [
    "#### Write a Python Program to Split the array and add the first part to the end?"
   ]
  },
  {
   "cell_type": "code",
   "execution_count": 10,
   "metadata": {},
   "outputs": [
    {
     "name": "stdout",
     "output_type": "stream",
     "text": [
      "5 6 52 36 12 10 "
     ]
    }
   ],
   "source": [
    "def splitArray(a, n, k): \n",
    "    for i in range(0, k): \n",
    "        x = a[0]\n",
    "        for j in range(0, n-1):\n",
    "            a[j] = a[j + 1]\n",
    "          \n",
    "        a[n-1] = x\n",
    "\n",
    "array = [12, 10, 5, 6, 52, 36]\n",
    "n = len(array)\n",
    "position = 2\n",
    "  \n",
    "splitArray(array, n, position)\n",
    "  \n",
    "for i in range(0, n): \n",
    "    print(arr[i], end = ' ')"
   ]
  },
  {
   "cell_type": "markdown",
   "metadata": {},
   "source": [
    "#### Write a Python Program to check if given array is Monotonic?"
   ]
  },
  {
   "cell_type": "code",
   "execution_count": 19,
   "metadata": {},
   "outputs": [
    {
     "name": "stdout",
     "output_type": "stream",
     "text": [
      "The array is Monotonic\n"
     ]
    }
   ],
   "source": [
    "def isMonotonic(A):\n",
    "  \n",
    "    return (all(A[i] <= A[i + 1] for i in range(len(A) - 1)) or\n",
    "            all(A[i] >= A[i + 1] for i in range(len(A) - 1)))\n",
    "\n",
    "A = [8, 5, 4, 4]\n",
    "\n",
    "abc = isMonotonic(A)\n",
    "\n",
    "if abc == True:\n",
    "    print(\"The array is Monotonic\")\n",
    "else:\n",
    "    \n",
    "    print(\"The array is  not Monotonic\")"
   ]
  },
  {
   "cell_type": "code",
   "execution_count": null,
   "metadata": {},
   "outputs": [],
   "source": []
  }
 ],
 "metadata": {
  "kernelspec": {
   "display_name": "Python 3",
   "language": "python",
   "name": "python3"
  },
  "language_info": {
   "codemirror_mode": {
    "name": "ipython",
    "version": 3
   },
   "file_extension": ".py",
   "mimetype": "text/x-python",
   "name": "python",
   "nbconvert_exporter": "python",
   "pygments_lexer": "ipython3",
   "version": "3.8.5"
  }
 },
 "nbformat": 4,
 "nbformat_minor": 4
}
