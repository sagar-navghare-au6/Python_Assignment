{
 "cells": [
  {
   "cell_type": "markdown",
   "metadata": {},
   "source": [
    "#### Write a Python Program to Display Fibonacci Sequence Using Recursion?"
   ]
  },
  {
   "cell_type": "code",
   "execution_count": 2,
   "metadata": {},
   "outputs": [
    {
     "name": "stdout",
     "output_type": "stream",
     "text": [
      "How many number to print? 7\n",
      "Fibonacci sequence:\n",
      "0\n",
      "1\n",
      "1\n",
      "2\n",
      "3\n",
      "5\n",
      "8\n"
     ]
    }
   ],
   "source": [
    "def fibo(n):  \n",
    "    if n <= 1:  \n",
    "        return n  \n",
    "    else:  \n",
    "        return(fibo(n-1) + fibo(n-2))  \n",
    "\n",
    "nterms = int(input(\"How many number to print? \"))  \n",
    " \n",
    "if nterms <= 0:  \n",
    "    print(\"Plese enter a positive integer\")  \n",
    "else:  \n",
    "    print(\"Fibonacci sequence:\")  \n",
    "    for i in range(nterms):  \n",
    "        print(fibo(i))  "
   ]
  },
  {
   "cell_type": "markdown",
   "metadata": {},
   "source": [
    "#### Write a Python Program to Find Factorial of Number Using Recursion?"
   ]
  },
  {
   "cell_type": "code",
   "execution_count": 3,
   "metadata": {},
   "outputs": [
    {
     "name": "stdout",
     "output_type": "stream",
     "text": [
      "Enter a number: 5\n",
      "The factorial of 5 is 120\n"
     ]
    }
   ],
   "source": [
    "def factorial(n):  \n",
    "    if n == 1:  \n",
    "        return n  \n",
    "    else:  \n",
    "        return n*factorial(n-1)  \n",
    "num = int(input(\"Enter a number: \"))   \n",
    "if num < 0:  \n",
    "    print(\"Sorry, Invalid Number\")  \n",
    "elif num == 0:  \n",
    "    print(\"The factorial of 0 is 1\")  \n",
    "else:  \n",
    "    print(\"The factorial of\",num,\"is\",factorial(num))  "
   ]
  },
  {
   "cell_type": "markdown",
   "metadata": {},
   "source": [
    "#### Write a Python Program to calculate your Body Mass Index?"
   ]
  },
  {
   "cell_type": "code",
   "execution_count": 6,
   "metadata": {},
   "outputs": [
    {
     "name": "stdout",
     "output_type": "stream",
     "text": [
      "Your BMI is  24.343809494085704\n"
     ]
    }
   ],
   "source": [
    "def BMI(height, weight):\n",
    "    bmi = weight/(height**2)\n",
    "    return bmi\n",
    "  \n",
    "\n",
    "height = 1.79\n",
    "weight =78 \n",
    "print(\"Your BMI is \",BMI(height, weight))"
   ]
  },
  {
   "cell_type": "markdown",
   "metadata": {},
   "source": [
    "#### Write a Python Program to calculate the natural logarithm of any number?"
   ]
  },
  {
   "cell_type": "code",
   "execution_count": 8,
   "metadata": {},
   "outputs": [
    {
     "name": "stdout",
     "output_type": "stream",
     "text": [
      "Natural logarithm of 55 is : 4.007333185232471\n"
     ]
    }
   ],
   "source": [
    "import math\n",
    "a = 55\n",
    "print (f\"Natural logarithm of {a} is : \", end=\"\")\n",
    "print (math.log(a))"
   ]
  },
  {
   "cell_type": "markdown",
   "metadata": {},
   "source": [
    "#### Write a Python Program for cube sum of first n natural numbers?"
   ]
  },
  {
   "cell_type": "code",
   "execution_count": null,
   "metadata": {},
   "outputs": [],
   "source": [
    "def calculate_cube(n):\n",
    "    sum = 0\n",
    "    for i in range(1, n+1):\n",
    "        sum +=i*i*i\n",
    "    return sum\n",
    "n = input(int(\"Enter Number\"))\n",
    "print(calculate_cube(n))"
   ]
  }
 ],
 "metadata": {
  "kernelspec": {
   "display_name": "Python 3",
   "language": "python",
   "name": "python3"
  },
  "language_info": {
   "codemirror_mode": {
    "name": "ipython",
    "version": 3
   },
   "file_extension": ".py",
   "mimetype": "text/x-python",
   "name": "python",
   "nbconvert_exporter": "python",
   "pygments_lexer": "ipython3",
   "version": "3.8.5"
  }
 },
 "nbformat": 4,
 "nbformat_minor": 4
}
